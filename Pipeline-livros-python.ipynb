{
  "nbformat": 4,
  "nbformat_minor": 0,
  "metadata": {
    "colab": {
      "provenance": [],
      "collapsed_sections": [
        "kNuP0SDUZMBY"
      ],
      "include_colab_link": true
    },
    "kernelspec": {
      "name": "python3",
      "display_name": "Python 3"
    },
    "language_info": {
      "name": "python"
    }
  },
  "cells": [
    {
      "cell_type": "markdown",
      "metadata": {
        "id": "view-in-github",
        "colab_type": "text"
      },
      "source": [
        "<a href=\"https://colab.research.google.com/github/tomaschaves/dio-lab-colab-pipeline/blob/main/Pipeline-livros-python.ipynb\" target=\"_parent\"><img src=\"https://colab.research.google.com/assets/colab-badge.svg\" alt=\"Open In Colab\"/></a>"
      ]
    },
    {
      "cell_type": "markdown",
      "source": [
        "# Pipeline de ETL Bootcamp Santander (ETL com Python)"
      ],
      "metadata": {
        "id": "BPJQsTCULaC-"
      }
    },
    {
      "cell_type": "markdown",
      "source": [
        "**Contexto:** Algumas vezes podemos desistir de acompanhar algumas séries de livros por váriados motivos. Sendo assim, as vezes compensa fazer isso de uma maneira mais automatizada, para ser mais fácil tal tarefa.\n",
        "\n",
        "**Condições do Problema:**\n",
        "\n",
        "1. Tenho uma planilha com os nomes dos livros, em formato CSV('leituras2023.csv'):\n",
        "  ```\n",
        "  books\n",
        "  The world of Otome Games is Tough for Mobs 06\n",
        "  The world of Otome Games is Tough for Mobs 07\n",
        "  The world of Otome Games is Tough for Mobs 08\n",
        "  In the Land of Leadale 08\n",
        "  Endo and Kobayashi Live! The Latest on Tsundere Villainess Lieselotte Disc Ex\n",
        "  The World's Finest Assassin Gets Reincarnated in Another World as an Aristocrat 07\n",
        "  So I'm a Spider, So What 16\n",
        "  Banished from the Hero's Party, I Decided to Live a Quiet Life in the Countryside 08\n",
        "  Chillin' in Another World with Level 2 Super Cheat Powers 08\n",
        "  In the Land of Leadale 07\n",
        "  The world of Otome Games is Tough for Mobs 09\n",
        "  The world of Otome Games is Tough for Mobs 10\n",
        "  ```\n",
        "2. A partir dele, passando parte do nome de um ou mais livros, a lista será filtrada e os novos dados serão salvos em um novo .CSV.\n",
        "\n"
      ],
      "metadata": {
        "id": "k5fA5OrXt1a3"
      }
    },
    {
      "cell_type": "markdown",
      "source": [
        "## **E**xtract\n",
        "\n",
        "Extraia a lista de livros a partir do arquivo CSV."
      ],
      "metadata": {
        "id": "9dfI-o7gLRq9"
      }
    },
    {
      "cell_type": "code",
      "execution_count": 30,
      "metadata": {
        "id": "NYydpX_GLRCB",
        "colab": {
          "base_uri": "https://localhost:8080/"
        },
        "outputId": "884a5a67-34d0-478f-a693-1e49a2d8fc90"
      },
      "outputs": [
        {
          "output_type": "stream",
          "name": "stdout",
          "text": [
            "['The world of Otome Games is Tough for Mobs 06', 'The world of Otome Games is Tough for Mobs 07', 'The world of Otome Games is Tough for Mobs 08', 'In the Land of Leadale 08', 'Endo and Kobayashi Live! The Latest on Tsundere Villainess Lieselotte Disc Ex', \"The World's Finest Assassin Gets Reincarnated in Another World as an Aristocrat 07\", \"So I'm a Spider, So What 16\", \"Banished from the Hero's Party, I Decided to Live a Quiet Life in the Countryside 08\", \"Chillin' in Another World with Level 2 Super Cheat Powers 08\", 'In the Land of Leadale 07', 'The world of Otome Games is Tough for Mobs 09', 'The world of Otome Games is Tough for Mobs 10']\n"
          ]
        }
      ],
      "source": [
        "import pandas as pd\n",
        "\n",
        "df = pd.read_csv('leituras2023.csv', sep='|')\n",
        "book_names = df['books'].tolist()\n",
        "print(book_names)"
      ]
    },
    {
      "cell_type": "markdown",
      "source": [
        "## **T**ransform\n",
        "\n",
        "Utilizo uma função para que sejam retirados da lista os livros que contiverem o termo que for especificado."
      ],
      "metadata": {
        "id": "cWoqInB4TF1x"
      }
    },
    {
      "cell_type": "code",
      "source": [
        "import csv\n",
        "\n",
        "def filter_book(books, name):\n",
        "  return_books = []\n",
        "  for book in books:\n",
        "    if name not in book:\n",
        "      return_books.append(book)\n",
        "  return return_books\n",
        "\n",
        "filtered_books = filter_book(book_names, 'Leadale')"
      ],
      "metadata": {
        "id": "n1w78kNxTrZY"
      },
      "execution_count": 31,
      "outputs": []
    },
    {
      "cell_type": "markdown",
      "source": [
        "## **L**oad\n",
        "\n",
        "Por fim, um novo arquivo é gerado, com a nova lista de livros, tendo sido retirados os livros que contenham o texto especificado."
      ],
      "metadata": {
        "id": "kNuP0SDUZMBY"
      }
    },
    {
      "cell_type": "code",
      "source": [
        "with open(\"filtered_books.csv\", 'w', newline=\"\") as file:\n",
        "  for book in filtered_books:\n",
        "    print(book)\n",
        "    writer = csv.writer(file)\n",
        "    writer.writerow([book])"
      ],
      "metadata": {
        "colab": {
          "base_uri": "https://localhost:8080/"
        },
        "outputId": "ec29663c-57fc-473b-cf8e-af86a010ad81",
        "id": "jFyc9GFzK8BR"
      },
      "execution_count": 32,
      "outputs": [
        {
          "output_type": "stream",
          "name": "stdout",
          "text": [
            "The world of Otome Games is Tough for Mobs 06\n",
            "The world of Otome Games is Tough for Mobs 07\n",
            "The world of Otome Games is Tough for Mobs 08\n",
            "Endo and Kobayashi Live! The Latest on Tsundere Villainess Lieselotte Disc Ex\n",
            "The World's Finest Assassin Gets Reincarnated in Another World as an Aristocrat 07\n",
            "So I'm a Spider, So What 16\n",
            "Banished from the Hero's Party, I Decided to Live a Quiet Life in the Countryside 08\n",
            "Chillin' in Another World with Level 2 Super Cheat Powers 08\n",
            "The world of Otome Games is Tough for Mobs 09\n",
            "The world of Otome Games is Tough for Mobs 10\n"
          ]
        }
      ]
    }
  ]
}